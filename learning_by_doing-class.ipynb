{
 "cells": [
  {
   "cell_type": "markdown",
   "id": "4817c310",
   "metadata": {},
   "source": [
    "# Referring to Prototipo JHA file analysis notes. In this session, class will be developed through trial and error process."
   ]
  },
  {
   "cell_type": "code",
   "execution_count": 79,
   "id": "78c5603d",
   "metadata": {},
   "outputs": [],
   "source": [
    "class TrafficLight:\n",
    "    '''This is an updated traffic light class'''\n",
    "    def __init__(self, color1):\n",
    "        self.color1 = color1\n",
    "\n",
    "    def action(self):\n",
    "        what = 'Nonono'\n",
    "        if self.color1=='red':\n",
    "            what = 'Stop & wait'\n",
    "        elif self.color1=='yellow':\n",
    "            what = 'Prepare to stop'\n",
    "        elif self.color1=='green':\n",
    "            what = 'Go'\n",
    "        else:\n",
    "            what = 'Stop drinking 😉'\n",
    "        return what\n",
    "    def merger(self, string):\n",
    "        return (string.split(' '))"
   ]
  },
  {
   "cell_type": "code",
   "execution_count": 80,
   "id": "11f08265",
   "metadata": {},
   "outputs": [
    {
     "name": "stdout",
     "output_type": "stream",
     "text": [
      "['Stop', '&', 'wait']\n"
     ]
    }
   ],
   "source": [
    "trek = TrafficLight('red').merger(TrafficLight('red').action())\n",
    "print(trek)"
   ]
  }
 ],
 "metadata": {
  "kernelspec": {
   "display_name": "Python 3 (ipykernel)",
   "language": "python",
   "name": "python3"
  },
  "language_info": {
   "codemirror_mode": {
    "name": "ipython",
    "version": 3
   },
   "file_extension": ".py",
   "mimetype": "text/x-python",
   "name": "python",
   "nbconvert_exporter": "python",
   "pygments_lexer": "ipython3",
   "version": "3.11.5"
  }
 },
 "nbformat": 4,
 "nbformat_minor": 5
}
