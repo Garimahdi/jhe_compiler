{
 "cells": [
  {
   "cell_type": "code",
   "execution_count": 1,
   "id": "10e4d65c",
   "metadata": {},
   "outputs": [],
   "source": [
    "import pandas as pd\n",
    "import numpy as np"
   ]
  },
  {
   "cell_type": "code",
   "execution_count": 2,
   "id": "5595f1c2",
   "metadata": {},
   "outputs": [
    {
     "name": "stdout",
     "output_type": "stream",
     "text": [
      "<_io.TextIOWrapper name='D:\\\\Astragraphia\\\\Report Analysis\\\\ApeosPort-VI C7771_650023_04032024_1631.csv' mode='r' encoding='cp1252'>\n",
      "<_io.TextIOWrapper name='D:\\\\Astragraphia\\\\Report Analysis\\\\jobhist (2).csv' mode='r' encoding='cp1252'>\n"
     ]
    }
   ],
   "source": [
    "with open(r\"D:\\Astragraphia\\Report Analysis\\ApeosPort-VI C7771_650023_04032024_1631.csv\") as f:\n",
    "    print(f)\n",
    "with open(r\"D:\\Astragraphia\\Report Analysis\\jobhist (2).csv\") as g:\n",
    "    print(g)"
   ]
  },
  {
   "cell_type": "code",
   "execution_count": 3,
   "id": "7e85d2fb",
   "metadata": {},
   "outputs": [],
   "source": [
    "jhe = pd.read_csv(\n",
    "    r\"D:\\Astragraphia\\Report Analysis\\ApeosPort-VI C7771_650023_04032024_1631.csv\",\n",
    "    encoding='cp1252'\n",
    ")\n",
    "\n",
    "ejh = pd.read_csv(\n",
    "    r\"D:\\Astragraphia\\Report Analysis\\jobhist (2).csv\",\n",
    "    encoding='cp1252'\n",
    ")"
   ]
  },
  {
   "cell_type": "code",
   "execution_count": 4,
   "id": "f6491e68",
   "metadata": {},
   "outputs": [
    {
     "data": {
      "text/html": [
       "<div>\n",
       "<style scoped>\n",
       "    .dataframe tbody tr th:only-of-type {\n",
       "        vertical-align: middle;\n",
       "    }\n",
       "\n",
       "    .dataframe tbody tr th {\n",
       "        vertical-align: top;\n",
       "    }\n",
       "\n",
       "    .dataframe thead th {\n",
       "        text-align: right;\n",
       "    }\n",
       "</style>\n",
       "<table border=\"1\" class=\"dataframe\">\n",
       "  <thead>\n",
       "    <tr style=\"text-align: right;\">\n",
       "      <th></th>\n",
       "      <th>Date</th>\n",
       "      <th>Time</th>\n",
       "      <th>Input Source</th>\n",
       "      <th>Output Destination</th>\n",
       "      <th>Job Information</th>\n",
       "      <th>Page Information</th>\n",
       "      <th>Pages</th>\n",
       "      <th>Sheets</th>\n",
       "      <th>Job Status</th>\n",
       "      <th>Job Hierarchy</th>\n",
       "      <th>Job Number</th>\n",
       "    </tr>\n",
       "  </thead>\n",
       "  <tbody>\n",
       "    <tr>\n",
       "      <th>0</th>\n",
       "      <td>04/03/2024</td>\n",
       "      <td>15:34:36</td>\n",
       "      <td>Scanner</td>\n",
       "      <td>SMTP:Rizal Aziz</td>\n",
       "      <td>PDF:JPEG</td>\n",
       "      <td>Color</td>\n",
       "      <td>6</td>\n",
       "      <td>NaN</td>\n",
       "      <td>Completed</td>\n",
       "      <td>NaN</td>\n",
       "      <td>9e81f56f-d9f9-11ee-8000-1c7d22109f7d</td>\n",
       "    </tr>\n",
       "    <tr>\n",
       "      <th>1</th>\n",
       "      <td>04/03/2024</td>\n",
       "      <td>15:34:19</td>\n",
       "      <td>Scanner</td>\n",
       "      <td>SMTP:Rizal Aziz</td>\n",
       "      <td>PDF:JPEG</td>\n",
       "      <td>Color</td>\n",
       "      <td>6</td>\n",
       "      <td>NaN</td>\n",
       "      <td>Completed</td>\n",
       "      <td>NaN</td>\n",
       "      <td>9581f56c-d9f9-11ee-8000-1c7d22109f7d</td>\n",
       "    </tr>\n",
       "  </tbody>\n",
       "</table>\n",
       "</div>"
      ],
      "text/plain": [
       "         Date      Time Input Source Output Destination Job Information  \\\n",
       "0  04/03/2024  15:34:36      Scanner    SMTP:Rizal Aziz        PDF:JPEG   \n",
       "1  04/03/2024  15:34:19      Scanner    SMTP:Rizal Aziz        PDF:JPEG   \n",
       "\n",
       "  Page Information   Pages  Sheets Job Status Job Hierarchy  \\\n",
       "0            Color       6     NaN  Completed           NaN   \n",
       "1            Color       6     NaN  Completed           NaN   \n",
       "\n",
       "                             Job Number  \n",
       "0  9e81f56f-d9f9-11ee-8000-1c7d22109f7d  \n",
       "1  9581f56c-d9f9-11ee-8000-1c7d22109f7d  "
      ]
     },
     "execution_count": 4,
     "metadata": {},
     "output_type": "execute_result"
    }
   ],
   "source": [
    "cj = list(jhe.columns)\n",
    "ce = list(ejh.columns)\n",
    "\n",
    "ejh.head(2)"
   ]
  },
  {
   "cell_type": "code",
   "execution_count": 5,
   "id": "3aa099ce",
   "metadata": {},
   "outputs": [
    {
     "data": {
      "text/html": [
       "<div>\n",
       "<style scoped>\n",
       "    .dataframe tbody tr th:only-of-type {\n",
       "        vertical-align: middle;\n",
       "    }\n",
       "\n",
       "    .dataframe tbody tr th {\n",
       "        vertical-align: top;\n",
       "    }\n",
       "\n",
       "    .dataframe thead th {\n",
       "        text-align: right;\n",
       "    }\n",
       "</style>\n",
       "<table border=\"1\" class=\"dataframe\">\n",
       "  <thead>\n",
       "    <tr style=\"text-align: right;\">\n",
       "      <th></th>\n",
       "      <th>Date</th>\n",
       "      <th>Year</th>\n",
       "      <th>Month</th>\n",
       "      <th>Day</th>\n",
       "      <th>Year/Month</th>\n",
       "      <th>Month/Day</th>\n",
       "      <th>Time Completed</th>\n",
       "      <th>Job Type</th>\n",
       "      <th>Job Type Details</th>\n",
       "      <th>Input (Send) Type</th>\n",
       "      <th>...</th>\n",
       "      <th>Fax Duration</th>\n",
       "      <th>Fax Images Sent</th>\n",
       "      <th>Fax Images Received</th>\n",
       "      <th>Fax Communication Protocol</th>\n",
       "      <th>Fax Communication Result</th>\n",
       "      <th>Total Color Pages</th>\n",
       "      <th>Total Black &amp; White Pages</th>\n",
       "      <th>Total Pages</th>\n",
       "      <th>Total Sheets</th>\n",
       "      <th>Fax Speed Dial</th>\n",
       "    </tr>\n",
       "  </thead>\n",
       "  <tbody>\n",
       "    <tr>\n",
       "      <th>0</th>\n",
       "      <td>12/02/2024</td>\n",
       "      <td>2024</td>\n",
       "      <td>2</td>\n",
       "      <td>12</td>\n",
       "      <td>02/2024</td>\n",
       "      <td>12/02</td>\n",
       "      <td>07:35:38</td>\n",
       "      <td>System Sheet</td>\n",
       "      <td>PostScript Initialization Print</td>\n",
       "      <td>PS Initialize</td>\n",
       "      <td>...</td>\n",
       "      <td>NaN</td>\n",
       "      <td>0</td>\n",
       "      <td>0</td>\n",
       "      <td>NaN</td>\n",
       "      <td>NaN</td>\n",
       "      <td>0</td>\n",
       "      <td>0</td>\n",
       "      <td>0</td>\n",
       "      <td>0</td>\n",
       "      <td>NaN</td>\n",
       "    </tr>\n",
       "    <tr>\n",
       "      <th>1</th>\n",
       "      <td>12/02/2024</td>\n",
       "      <td>2024</td>\n",
       "      <td>2</td>\n",
       "      <td>12</td>\n",
       "      <td>02/2024</td>\n",
       "      <td>12/02</td>\n",
       "      <td>07:36:03</td>\n",
       "      <td>File Transfer</td>\n",
       "      <td>Private Print Spool</td>\n",
       "      <td>lpd</td>\n",
       "      <td>...</td>\n",
       "      <td>NaN</td>\n",
       "      <td>0</td>\n",
       "      <td>0</td>\n",
       "      <td>NaN</td>\n",
       "      <td>NaN</td>\n",
       "      <td>0</td>\n",
       "      <td>0</td>\n",
       "      <td>0</td>\n",
       "      <td>0</td>\n",
       "      <td>NaN</td>\n",
       "    </tr>\n",
       "  </tbody>\n",
       "</table>\n",
       "<p>2 rows × 96 columns</p>\n",
       "</div>"
      ],
      "text/plain": [
       "         Date  Year  Month  Day Year/Month Month/Day Time Completed  \\\n",
       "0  12/02/2024  2024      2   12    02/2024     12/02       07:35:38   \n",
       "1  12/02/2024  2024      2   12    02/2024     12/02       07:36:03   \n",
       "\n",
       "        Job Type                 Job Type Details Input (Send) Type  ...  \\\n",
       "0   System Sheet  PostScript Initialization Print     PS Initialize  ...   \n",
       "1  File Transfer              Private Print Spool               lpd  ...   \n",
       "\n",
       "  Fax Duration Fax Images Sent Fax Images Received Fax Communication Protocol  \\\n",
       "0          NaN               0                   0                        NaN   \n",
       "1          NaN               0                   0                        NaN   \n",
       "\n",
       "   Fax Communication Result Total Color Pages Total Black & White Pages  \\\n",
       "0                       NaN                 0                         0   \n",
       "1                       NaN                 0                         0   \n",
       "\n",
       "   Total Pages  Total Sheets  Fax Speed Dial  \n",
       "0            0             0             NaN  \n",
       "1            0             0             NaN  \n",
       "\n",
       "[2 rows x 96 columns]"
      ]
     },
     "execution_count": 5,
     "metadata": {},
     "output_type": "execute_result"
    }
   ],
   "source": [
    "jhe.head(2)"
   ]
  },
  {
   "cell_type": "code",
   "execution_count": 11,
   "id": "5a65373a",
   "metadata": {},
   "outputs": [
    {
     "data": {
      "text/plain": [
       "array(['Color', 'Black & White:A4:Plain:White', 'No',\n",
       "       'Color:A4:Plain:White',\n",
       "       'Color:A4:Plain:White\\nBlack & White:A4:Plain:White', 'Color:A4',\n",
       "       'Color:A3:Plain:White', 'Black & White', 'A4:Plain:White',\n",
       "       'Black & White:A4:Plain:White\\nColor:A4:Plain:White',\n",
       "       'Color:8.5 x 13\":Plain:White', 'Black & White:A4',\n",
       "       'Black & White:A3:Plain:White'], dtype=object)"
      ]
     },
     "execution_count": 11,
     "metadata": {},
     "output_type": "execute_result"
    }
   ],
   "source": [
    "ejh[ce[5]].fillna('No', inplace=True)\n",
    "ejh[ce[5]].unique()"
   ]
  },
  {
   "cell_type": "code",
   "execution_count": 29,
   "id": "858e330e",
   "metadata": {},
   "outputs": [
    {
     "name": "stdout",
     "output_type": "stream",
     "text": [
      "Page Information\n",
      "                  Page Information\n",
      "38            Color:A4:Plain:White\n",
      "38    Black & White:A4:Plain:White\n",
      "39            Color:A4:Plain:White\n",
      "39    Black & White:A4:Plain:White\n",
      "81            Color:A4:Plain:White\n",
      "...                            ...\n",
      "2835  Black & White:A4:Plain:White\n",
      "3148          Color:A4:Plain:White\n",
      "3148  Black & White:A4:Plain:White\n",
      "3490  Black & White:A4:Plain:White\n",
      "3490          Color:A4:Plain:White\n",
      "\n",
      "[72 rows x 1 columns]\n"
     ]
    },
    {
     "name": "stderr",
     "output_type": "stream",
     "text": [
      "C:\\Users\\Garimahdi.Supandi\\AppData\\Local\\Temp\\ipykernel_5236\\1887365488.py:2: SettingWithCopyWarning: \n",
      "A value is trying to be set on a copy of a slice from a DataFrame.\n",
      "Try using .loc[row_indexer,col_indexer] = value instead\n",
      "\n",
      "See the caveats in the documentation: https://pandas.pydata.org/pandas-docs/stable/user_guide/indexing.html#returning-a-view-versus-a-copy\n",
      "  test_filter[ce[5]] = test_filter[ce[5]].apply(lambda x:x.split('\\n'))\n"
     ]
    }
   ],
   "source": [
    "test_filter = ejh[ejh[ce[5]].str.contains('\\n')]\n",
    "test_filter[ce[5]] = test_filter[ce[5]].apply(lambda x:x.split('\\n'))\n",
    "for i in [ce[5]]:\n",
    "    print(i)\n",
    "    idx = test_filter.index.repeat(test_filter[ce[5]].str.len())\n",
    "    #print(test_filter[i].values)\n",
    "    reps = pd.DataFrame({i:np.concatenate(test_filter[i].values)}, index=idx)\n",
    "print(reps)\n",
    "#test_filter.head(2)"
   ]
  },
  {
   "cell_type": "code",
   "execution_count": 41,
   "id": "3be8d960",
   "metadata": {},
   "outputs": [
    {
     "name": "stdout",
     "output_type": "stream",
     "text": [
      "          Date      Time                                       Input Source  \\\n",
      "38  04/03/2024  13:35:28  HD:DS0303000900:Andhika Danaatmaja:IV2402334_M...   \n",
      "39  04/03/2024  13:35:30  HD:DS0303000900:Andhika Danaatmaja:IV2402333_M...   \n",
      "\n",
      "     Output Destination          Job Information  \\\n",
      "38  Center Tray - Lower  1 Pages Up:1 Sided:PCL6   \n",
      "39  Center Tray - Lower  1 Pages Up:1 Sided:PCL6   \n",
      "\n",
      "                                     Page Information             Pages  \\\n",
      "38  [Color:A4:Plain:White, Black & White:A4:Plain:...  [     2,      1]   \n",
      "39  [Color:A4:Plain:White, Black & White:A4:Plain:...  [     2,      1]   \n",
      "\n",
      "    Sheets Job Status Job Hierarchy                            Job Number  \n",
      "38     3.0  Completed     Child Job  fd01f51e-d9e8-11ee-8000-1c7d22109f7d  \n",
      "39     3.0  Completed     Child Job  fd01f51e-d9e8-11ee-8000-1c7d22109f7d  \n",
      "       Pages\n",
      "38         2\n",
      "38         1\n",
      "39         2\n",
      "39         1\n",
      "81         2\n",
      "...      ...\n",
      "3148      13\n",
      "3148      27\n",
      "3490       4\n",
      "3490        \n",
      "3490       4\n",
      "\n",
      "[83 rows x 1 columns]\n"
     ]
    }
   ],
   "source": [
    "#test_filter[ce[6]] = test_filter[ce[6]].apply(lambda x:x.split('\\n'))\n",
    "print(test_filter.head(2))\n",
    "for j in [ce[6]]:\n",
    "    idxp = test_filter.index.repeat(test_filter[j].str.len())\n",
    "    repNum = pd.DataFrame({j:np.concatenate(test_filter[j].values)}, index=idxp)\n",
    "print(repNum)"
   ]
  },
  {
   "cell_type": "code",
   "execution_count": 55,
   "id": "b98df573",
   "metadata": {},
   "outputs": [
    {
     "data": {
      "text/plain": [
       "38      2\n",
       "38      2\n",
       "38      1\n",
       "38      1\n",
       "39      2\n",
       "       ..\n",
       "3490    4\n",
       "3490    0\n",
       "3490    0\n",
       "3490    4\n",
       "3490    4\n",
       "Name: Pages, Length: 166, dtype: int32"
      ]
     },
     "execution_count": 55,
     "metadata": {},
     "output_type": "execute_result"
    }
   ],
   "source": [
    "#test_filter_1 = reps.join(test_filter.rename(columns={ce[5]:'Hehe'}), how='left')\n",
    "#test_filter_1 = repNum.join(test_filter_1.rename(columns={ce[6]:'Hehe2'}), how='left')\n",
    "#test_filter_1['Pages'] = test_filter_1['Pages'].apply(lambda x:x.strip(''))\n",
    "#test_filter_1 = pd.to_numeric(test_filter_1['Pages'], errors='coerce')\n",
    "test_filter_1.fillna(0).astype(int)"
   ]
  },
  {
   "cell_type": "code",
   "execution_count": null,
   "id": "0be4cadf",
   "metadata": {},
   "outputs": [],
   "source": [
    "test1 = ejh[[ce[0],ce[5]]]\n",
    "t = list(test1.columns)\n",
    "test1[t[1]].fillna('No', inplace=True)\n",
    "try:\n",
    "    test_filter = test1[test1[t[1]].str.contains(':')]\n",
    "    test_filter.head(2)\n",
    "except Exception as e:\n",
    "    print(e)"
   ]
  },
  {
   "cell_type": "code",
   "execution_count": null,
   "id": "18b45211",
   "metadata": {},
   "outputs": [],
   "source": [
    "list(test_filter[t[1]].unique())"
   ]
  }
 ],
 "metadata": {
  "kernelspec": {
   "display_name": "Python 3 (ipykernel)",
   "language": "python",
   "name": "python3"
  },
  "language_info": {
   "codemirror_mode": {
    "name": "ipython",
    "version": 3
   },
   "file_extension": ".py",
   "mimetype": "text/x-python",
   "name": "python",
   "nbconvert_exporter": "python",
   "pygments_lexer": "ipython3",
   "version": "3.11.5"
  }
 },
 "nbformat": 4,
 "nbformat_minor": 5
}
