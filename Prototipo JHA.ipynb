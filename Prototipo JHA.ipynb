{
 "cells": [
  {
   "cell_type": "code",
   "execution_count": null,
   "id": "91f2a42f",
   "metadata": {},
   "outputs": [],
   "source": [
    "import pandas as pd\n",
    "import numpy as np"
   ]
  },
  {
   "cell_type": "code",
   "execution_count": null,
   "id": "e562f14b",
   "metadata": {},
   "outputs": [],
   "source": [
    "df1 = pd.read_excel(r\"D:\\Astragraphia\\BO1\\Hexindo\\Job Log Analyzer\\Raw Data AWMS\\Data Wrangling via JHE\\Lantai1HO_833524_12122023_1135.xlsx\")\n",
    "users = pd.read_excel(r\"D:\\Astragraphia\\BO1\\Hexindo\\Report Pemakaian\\LDAP.xlsx\")"
   ]
  },
  {
   "cell_type": "code",
   "execution_count": null,
   "id": "00bfef95",
   "metadata": {},
   "outputs": [],
   "source": [
    "c1 = list(df1.columns)\n",
    "df1.info()"
   ]
  },
  {
   "cell_type": "code",
   "execution_count": null,
   "id": "de248d90",
   "metadata": {},
   "outputs": [],
   "source": [
    "paper_size = [\n",
    "    (df1[c1[24]] > 0) | (df1[c1[24+7]] > 0),\n",
    "    (df1[c1[25]] > 0) | (df1[c1[25+7]] > 0),\n",
    "    (df1[c1[26]] > 0) | (df1[c1[26+7]] > 0),\n",
    "    (df1[c1[27]] > 0) | (df1[c1[27+7]] > 0),\n",
    "    (df1[c1[28]] > 0) | (df1[c1[28+7]] > 0),\n",
    "    (df1[c1[29]] > 0) | (df1[c1[29+7]] > 0),\n",
    "    (df1[c1[30]] > 0) | (df1[c1[30+7]] > 0),\n",
    "    (\n",
    "        (df1[c1[24]] == 0)&\n",
    "        (df1[c1[25]] == 0)&\n",
    "        (df1[c1[26]] == 0)&\n",
    "        (df1[c1[27]] == 0)&\n",
    "        (df1[c1[28]] == 0)&\n",
    "        (df1[c1[29]] == 0)&\n",
    "        (df1[c1[30]] == 0)&\n",
    "        (df1[c1[24+7]] == 0)&\n",
    "        (df1[c1[25+7]] == 0)&\n",
    "        (df1[c1[26+7]] == 0)&\n",
    "        (df1[c1[27+7]] == 0)&\n",
    "        (df1[c1[28+7]] == 0)&\n",
    "        (df1[c1[29+7]] == 0)&\n",
    "        (df1[c1[30+7]] == 0)\n",
    "    )\n",
    "]\n",
    "paper_desc = [\n",
    "    'A4', 'JIS B4', 'A3', 'Letter', 'Legal', 'Ledger', 'Other', 'No Printing'\n",
    "]\n",
    "\n",
    "df1['Paper Size'] = np.select(paper_size, paper_desc)\n",
    "df1['Colour Output'] = np.where(\n",
    "    (df1[c1[92]] != 0)&(df1[c1[91]] == 0), 'Black & White','Color')\n",
    "\n",
    "print(df1[c1[91]].sum())\n",
    "\n",
    "mesin_lt1 = df1.loc[df1['Paper Size'] != 'No Printing']\n",
    "print(mesin_lt1[c1[91]].sum())"
   ]
  },
  {
   "cell_type": "code",
   "execution_count": null,
   "id": "dec2f285",
   "metadata": {},
   "outputs": [],
   "source": [
    "mesin_lt1.to_excel('preview_lt1.xlsx')"
   ]
  },
  {
   "cell_type": "code",
   "execution_count": null,
   "id": "6aa989cc",
   "metadata": {},
   "outputs": [],
   "source": [
    "print(mesin_lt1.info())"
   ]
  },
  {
   "cell_type": "code",
   "execution_count": null,
   "id": "53316da9",
   "metadata": {},
   "outputs": [],
   "source": [
    "print(users.info())\n",
    "cu = list(users.columns)\n",
    "list_user = users[[cu[0],cu[2]]]\n",
    "list_dept = users[[cu[0],cu[1]]]\n",
    "map_list_user = dict(list_user.values)\n",
    "map_list_dept = dict(list_dept.values)"
   ]
  },
  {
   "cell_type": "code",
   "execution_count": null,
   "id": "4ad66830",
   "metadata": {},
   "outputs": [],
   "source": [
    "mesin_lt1['Nama'] = mesin_lt1[c1[12]].map(map_list_user)\n",
    "mesin_lt1['Dept'] = mesin_lt1[c1[12]].map(map_list_dept)"
   ]
  },
  {
   "cell_type": "code",
   "execution_count": null,
   "id": "2d79bc85",
   "metadata": {},
   "outputs": [],
   "source": [
    "mesin_lt1.to_excel('preview_lt1.xlsx')"
   ]
  },
  {
   "cell_type": "code",
   "execution_count": null,
   "id": "c3dcdc00",
   "metadata": {},
   "outputs": [],
   "source": [
    "mesin_lt1.info()"
   ]
  },
  {
   "cell_type": "code",
   "execution_count": null,
   "id": "3ff4fab8",
   "metadata": {},
   "outputs": [],
   "source": [
    "lt1 = mesin_lt1[[\n",
    "    c1[12],\n",
    "    'Nama',\n",
    "    'Dept',\n",
    "    c1[7],\n",
    "    'Colour Output',\n",
    "    'Paper Size',\n",
    "    c1[93]\n",
    "]]\n",
    "print(lt1)"
   ]
  },
  {
   "cell_type": "code",
   "execution_count": null,
   "id": "1d08718b",
   "metadata": {},
   "outputs": [],
   "source": [
    "lt1['Model Code'] = 'JLTC101544'\n",
    "lt1['Identification ID'] = '833524'\n",
    "lt1['Periode'] = 'Nov-23'\n",
    "print(lt1)"
   ]
  },
  {
   "cell_type": "markdown",
   "id": "c74d77ef",
   "metadata": {},
   "source": [
    "# Fujifilm version"
   ]
  },
  {
   "cell_type": "code",
   "execution_count": null,
   "id": "6b1ed945",
   "metadata": {},
   "outputs": [],
   "source": [
    "pd.set_option('display.max_columns',None)\n",
    "df2 = pd.read_excel(r'C:\\Users\\LENOVO\\semua-buat-hexindo-main\\Lantai 3 HO_382038_12122023_1134.xlsx')\n",
    "users = pd.read_excel(r'C:\\Users\\LENOVO\\semua-buat-hexindo-main\\LDAP.xlsx')\n",
    "print(df2.head(1))"
   ]
  },
  {
   "cell_type": "code",
   "execution_count": null,
   "id": "bd5af2c1",
   "metadata": {},
   "outputs": [],
   "source": [
    "u = list(users.columns)\n",
    "print(u)\n",
    "user = users[[u[0],u[2]]]\n",
    "dept = users[[u[0],u[1]]]\n",
    "dict_user = dict(user.values)\n",
    "dict_dept = dict(dept.values)"
   ]
  },
  {
   "cell_type": "code",
   "execution_count": null,
   "id": "626f3f98",
   "metadata": {},
   "outputs": [],
   "source": [
    "pd.set_option('max_rows',None)\n",
    "c2 = list(df2.columns)\n",
    "print(pd.Series(c2))"
   ]
  },
  {
   "cell_type": "code",
   "execution_count": null,
   "id": "4afd166f",
   "metadata": {},
   "outputs": [],
   "source": [
    "paper_size = [\n",
    "    (df2[c2[24]] > 0) | (df2[c2[24+7]] > 0),\n",
    "    (df2[c2[25]] > 0) | (df2[c2[25+7]] > 0),\n",
    "    (df2[c2[26]] > 0) | (df2[c2[26+7]] > 0),\n",
    "    (df2[c2[27]] > 0) | (df2[c2[27+7]] > 0),\n",
    "    (df2[c2[28]] > 0) | (df2[c2[28+7]] > 0),\n",
    "    (df2[c2[29]] > 0) | (df2[c2[29+7]] > 0),\n",
    "    (df2[c2[30]] > 0) | (df2[c2[30+7]] > 0),\n",
    "    (\n",
    "        (df2[c2[24]] == 0)&\n",
    "        (df2[c2[25]] == 0)&\n",
    "        (df2[c2[26]] == 0)&\n",
    "        (df2[c2[27]] == 0)&\n",
    "        (df2[c2[28]] == 0)&\n",
    "        (df2[c2[29]] == 0)&\n",
    "        (df2[c2[30]] == 0)&\n",
    "        (df2[c2[24+7]] == 0)&\n",
    "        (df2[c2[25+7]] == 0)&\n",
    "        (df2[c2[26+7]] == 0)&\n",
    "        (df2[c2[27+7]] == 0)&\n",
    "        (df2[c2[28+7]] == 0)&\n",
    "        (df2[c2[29+7]] == 0)&\n",
    "        (df2[c2[30+7]] == 0)\n",
    "    )\n",
    "]\n",
    "paper_desc = [\n",
    "    'A4', 'JIS B4', 'A3', 'Letter', 'Legal', 'Ledger', 'Other', 'No Printing'\n",
    "]\n",
    "\n",
    "df2['Paper Size'] = np.select(paper_size, paper_desc)\n",
    "df2['Colour Output'] = np.where(\n",
    "    (df2[c2[92]] != 0)&(df2[c2[91]] == 0), 'Black & White','Color')\n",
    "\n",
    "print(df2[c2[91]].sum())\n",
    "\n",
    "mesin_lt3 = df2.loc[df2['Paper Size'] != 'No Printing']\n",
    "print(mesin_lt3[c2[91]].sum())"
   ]
  },
  {
   "cell_type": "code",
   "execution_count": null,
   "id": "a90e3130",
   "metadata": {},
   "outputs": [],
   "source": [
    "mesin_lt3['Nama'] = mesin_lt3[c2[12]].map(dict_user)\n",
    "mesin_lt3['Dept'] = mesin_lt3[c2[12]].map(dict_dept)"
   ]
  },
  {
   "cell_type": "code",
   "execution_count": null,
   "id": "f2b14ee1",
   "metadata": {},
   "outputs": [],
   "source": [
    "lt3 = mesin_lt3[[\n",
    "    c2[12],\n",
    "    'Nama',\n",
    "    'Dept',\n",
    "    c2[7],\n",
    "    'Colour Output',\n",
    "    'Paper Size',\n",
    "    c2[93]\n",
    "]]\n",
    "lt3 = lt3.astype({c2[12]:int})\n",
    "lt3 = lt3.astype({c2[12]:str})\n",
    "print(lt3.info())"
   ]
  },
  {
   "cell_type": "markdown",
   "id": "aa2b4715",
   "metadata": {},
   "source": [
    "# 終わり"
   ]
  },
  {
   "cell_type": "markdown",
   "id": "4dfac30f",
   "metadata": {},
   "source": [
    "# Additional function: Failsafe"
   ]
  },
  {
   "cell_type": "code",
   "execution_count": null,
   "id": "2e3276a7",
   "metadata": {},
   "outputs": [],
   "source": [
    "pd.set_option('display.max_rows', None)\n",
    "t1 = pd.read_excel(r\"D:\\Astragraphia\\BO1\\Hexindo\\Job Log Analyzer\\Raw Data AWMS\\Data Wrangling via JHE\\Prototipo 002\\tipo001.xlsx\")\n",
    "t2 = pd.read_excel(r\"D:\\Astragraphia\\BO1\\Hexindo\\Job Log Analyzer\\Raw Data AWMS\\Data Wrangling via JHE\\Prototipo 002\\tipo002.xlsx\")\n",
    "c1 = list(t1.columns)\n",
    "c2 = list(t2.columns)"
   ]
  },
  {
   "cell_type": "code",
   "execution_count": null,
   "id": "39763fec",
   "metadata": {},
   "outputs": [],
   "source": [
    "users = pd.read_excel(r\"D:\\Astragraphia\\BO1\\Hexindo\\Report Pemakaian\\LDAP.xlsx\")\n",
    "u = list(users.columns)\n",
    "print(users.info())"
   ]
  },
  {
   "cell_type": "code",
   "execution_count": null,
   "id": "ca07e931",
   "metadata": {},
   "outputs": [],
   "source": [
    "print(pd.Series(c1))"
   ]
  },
  {
   "cell_type": "code",
   "execution_count": null,
   "id": "9ededaff",
   "metadata": {},
   "outputs": [],
   "source": [
    "print(t2.isna().sum())"
   ]
  },
  {
   "cell_type": "code",
   "execution_count": null,
   "id": "645ec144",
   "metadata": {},
   "outputs": [],
   "source": [
    "user = users[[u[0],u[2]]]\n",
    "dept = users[[u[0],u[1]]]\n",
    "map_user = dict(user.values)\n",
    "map_dept = dict(dept.values)"
   ]
  },
  {
   "cell_type": "code",
   "execution_count": null,
   "id": "46d07257",
   "metadata": {},
   "outputs": [],
   "source": [
    "def paperClr(df,c):\n",
    "    paper_size = [\n",
    "    (df[c[24]] > 0) | (df[c[24+7]] > 0),\n",
    "    (df[c[25]] > 0) | (df[c[25+7]] > 0),\n",
    "    (df[c[26]] > 0) | (df[c[26+7]] > 0),\n",
    "    (df[c[27]] > 0) | (df[c[27+7]] > 0),\n",
    "    (df[c[28]] > 0) | (df[c[28+7]] > 0),\n",
    "    (df[c[29]] > 0) | (df[c[29+7]] > 0),\n",
    "    (df[c[30]] > 0) | (df[c[30+7]] > 0),\n",
    "    (\n",
    "        (df[c[24]] == 0)&\n",
    "        (df[c[25]] == 0)&\n",
    "        (df[c[26]] == 0)&\n",
    "        (df[c[27]] == 0)&\n",
    "        (df[c[28]] == 0)&\n",
    "        (df[c[29]] == 0)&\n",
    "        (df[c[30]] == 0)&\n",
    "        (df[c[24+7]] == 0)&\n",
    "        (df[c[25+7]] == 0)&\n",
    "        (df[c[26+7]] == 0)&\n",
    "        (df[c[27+7]] == 0)&\n",
    "        (df[c[28+7]] == 0)&\n",
    "        (df[c[29+7]] == 0)&\n",
    "        (df[c[30+7]] == 0)\n",
    "        )\n",
    "    ]\n",
    "    paper_desc = [\n",
    "        'A4', 'JIS B4', 'A3', 'Letter', 'Legal', 'Ledger', 'Other', 'No Printing'\n",
    "    ]\n",
    "\n",
    "    df['Paper Size'] = np.select(paper_size, paper_desc)\n",
    "    df['Colour Output'] = np.where(\n",
    "        (df[c[92]] != 0)&(df[c[91]] == 0), 'Black & White','Color')\n",
    "\n",
    "    mesin = df.loc[df['Paper Size'] != 'No Printing']\n",
    "    return mesin\n",
    "\n",
    "def userDeptMapping(df, dictUser, dictDept, c):\n",
    "    df['Nama'] = df[c[12]].map(dictUser)\n",
    "    df['Dept'] = df[c[12]].map(dictDept)\n",
    "    df_prep = df[[\n",
    "        c[12],\n",
    "        'Nama',\n",
    "        'Dept',\n",
    "        c[7],\n",
    "        'Colour Output',\n",
    "        'Paper Size',\n",
    "        c[93]\n",
    "    ]]\n",
    "    return df_prep"
   ]
  },
  {
   "cell_type": "code",
   "execution_count": null,
   "id": "9c58a2fb",
   "metadata": {},
   "outputs": [],
   "source": [
    "#data1 = paperClr(t1, c1)\n",
    "data11 = userDeptMapping(data1, map_user, map_dept, c1)"
   ]
  },
  {
   "cell_type": "code",
   "execution_count": null,
   "id": "a4d85417",
   "metadata": {},
   "outputs": [],
   "source": [
    "data11.head()\n",
    "print(data11.shape,'\\n')\n",
    "print(data11.isna().sum())"
   ]
  },
  {
   "cell_type": "code",
   "execution_count": null,
   "id": "9584120b",
   "metadata": {},
   "outputs": [],
   "source": [
    "data11['Nama'] = data11['Nama'].fillna(data11[c1[12]])\n",
    "data11.head()"
   ]
  },
  {
   "cell_type": "code",
   "execution_count": null,
   "id": "42d9cd0a",
   "metadata": {},
   "outputs": [],
   "source": [
    "data11['Dept'] = data11['Dept'].fillna('Lantai tipo 1')\n",
    "data11.head()"
   ]
  },
  {
   "cell_type": "code",
   "execution_count": null,
   "id": "ceb2d003",
   "metadata": {},
   "outputs": [],
   "source": [
    "data11.loc[data11['Dept'] == 'Lantai tipo 1']"
   ]
  },
  {
   "cell_type": "code",
   "execution_count": null,
   "id": "8ce1c0d0",
   "metadata": {},
   "outputs": [],
   "source": [
    "data11.isna().sum()"
   ]
  },
  {
   "cell_type": "markdown",
   "id": "f7287772",
   "metadata": {},
   "source": [
    "# At this point below, a further research will be conducted to enhance the function ability to clean data across various type of JHE reports."
   ]
  },
  {
   "cell_type": "markdown",
   "id": "579c6e6a",
   "metadata": {},
   "source": [
    "# Key takeaways for this research:\n",
    "### 1) Better workflow to detect the empty entries.\n",
    "### 2) Making the function bilingual to detect Indonesian language.\n",
    "### 3) Seamless data type conversion.\n",
    "### 4) Being able to merge multiple dataframes.\n",
    "### 5) Make the old reporting format as the new one."
   ]
  },
  {
   "cell_type": "code",
   "execution_count": 1,
   "id": "5a660590",
   "metadata": {},
   "outputs": [],
   "source": [
    "import pandas as pd\n",
    "import numpy as np\n",
    "pd.set_option('display.max_rows', 1000)"
   ]
  },
  {
   "cell_type": "code",
   "execution_count": 2,
   "id": "2168c0a9",
   "metadata": {},
   "outputs": [],
   "source": [
    "fx_eng = pd.read_excel(\n",
    "    r'D:\\Astragraphia\\BO1\\Hexindo\\Job Log Analyzer\\Raw Data AWMS\\Data Wrangling via JHE\\Jan Period\\Rekap Des Jan\\Lantai1HO.xlsx',\n",
    ") # For Fuji Xerox JHE case\n",
    "\n",
    "ff_eng = pd.read_excel(\n",
    "    r'D:\\Astragraphia\\BO1\\Hexindo\\Job Log Analyzer\\Raw Data AWMS\\Data Wrangling via JHE\\Jan Period\\Rekap Des Jan\\Lantai 3 HO.xlsx'\n",
    ") # For Fujifilm JHE case (ENG language)\n",
    "\n",
    "ff_ina = pd.read_excel(\n",
    "    r\"D:\\Astragraphia\\BO1\\Hexindo\\Job Log Analyzer\\Raw Data AWMS\\Data Wrangling via JHE\\Jan Period\\Rekap Des Jan\\Lantai 4 HO.xlsx\"\n",
    ") # For Fujifilm JHE case (INA language)"
   ]
  },
  {
   "cell_type": "code",
   "execution_count": 3,
   "id": "b3d5e699",
   "metadata": {},
   "outputs": [],
   "source": [
    "cx = list(fx_eng.columns) # No problem with user id, but some user names are empty.\n",
    "cfe = list(ff_eng.columns) # Empty user id, this leads to data conversion error.\n",
    "cfi = list(ff_ina.columns) # Indonesian, this leads to chaotic dataset merging process."
   ]
  },
  {
   "cell_type": "code",
   "execution_count": 4,
   "id": "902f1a40",
   "metadata": {},
   "outputs": [
    {
     "name": "stdout",
     "output_type": "stream",
     "text": [
      "['Cetak' 'Transfer File' 'Transfer Email' 'Salin' 'Lembar Sistem']\n",
      "['File Transfer' 'Print' 'Email Transfer' 'Copy' 'System Sheet'] \n",
      "\n"
     ]
    }
   ],
   "source": [
    "#print(fx_eng.shape,'\\n',ff_ina.shape,'\\n',ff_eng.shape)\n",
    "print(ff_ina[cfi[7]].unique())\n",
    "print(ff_eng[cfe[7]].unique(),'\\n')"
   ]
  },
  {
   "cell_type": "markdown",
   "id": "7829d19a",
   "metadata": {},
   "source": [
    "### For paper classifier, there is no problem.\n",
    "### After thorough evaluation, it is better to use col num 91 (CLR) & 92 (Mono).\n",
    "### paperClr function will have a minor tweak, just paper size.\n",
    "### Translator function will be needed. rename the columns based on the English version.\n",
    "### The array of JHE INA version has to be rearranged (referring to **Line 5**)\n",
    "### --> 1st and 2nd index does not have proper translation\n",
    "####  -------> 'Cetak' should be translated as 'Print' & 'Transfer File' should be 'File Transfer'"
   ]
  },
  {
   "cell_type": "code",
   "execution_count": null,
   "id": "682c131d",
   "metadata": {},
   "outputs": [],
   "source": [
    "inaJobType = np.array(list(ff_ina[cfi[7]].unique()))\n",
    "arrIdx = [1,0]\n",
    "for i in range(2,5):\n",
    "    arrIdx.append(i)\n",
    "inaUni = inaJobType[arrIdx] # Ready to be translated"
   ]
  },
  {
   "cell_type": "code",
   "execution_count": null,
   "id": "35733f4b",
   "metadata": {},
   "outputs": [],
   "source": [
    "#printOnly = ff_ina.loc[ff_ina[cfi[7]] == 'Cetak']\n",
    "#print(printOnly[cfi[24+7]].unique(), '\\n')\n",
    "\n",
    "try:\n",
    "    for i,j in zip(cfi, cfe):\n",
    "        printOnly.rename(columns={i:j}, inplace=True)\n",
    "    print(printOnly.head(1))\n",
    "except Exception as e:\n",
    "    print(e)\n",
    "    \n",
    "try:\n",
    "    for a,b in zip(inaUni, ff_eng[cfe[7]].unique()):\n",
    "        printOnly.replace({cfe[7]:{a:b}}, inplace=True)\n",
    "        \n",
    "    print(printOnly[cfe[24+7]].unique(), '\\n')\n",
    "except Exception as e:\n",
    "    print(e)"
   ]
  },
  {
   "cell_type": "code",
   "execution_count": null,
   "id": "1c38bc4b",
   "metadata": {},
   "outputs": [],
   "source": [
    "ff_inaFunc = paperClr(printOnly, cfe)"
   ]
  },
  {
   "cell_type": "code",
   "execution_count": null,
   "id": "695067b0",
   "metadata": {},
   "outputs": [],
   "source": [
    "ff_inaFunc.loc[(ff_inaFunc[cfe[7]] == 'Print')]"
   ]
  },
  {
   "cell_type": "code",
   "execution_count": null,
   "id": "a0e56ba8",
   "metadata": {},
   "outputs": [],
   "source": [
    "def paperClr(df,c):\n",
    "    paper_size = [\n",
    "    (df[c[24]] > 0) | (df[c[24+7]] > 0),\n",
    "    (df[c[25]] > 0) | (df[c[25+7]] > 0),\n",
    "    (df[c[26]] > 0) | (df[c[26+7]] > 0),\n",
    "    (df[c[27]] > 0) | (df[c[27+7]] > 0),\n",
    "    (df[c[28]] > 0) | (df[c[28+7]] > 0),\n",
    "    (df[c[29]] > 0) | (df[c[29+7]] > 0),\n",
    "    (df[c[30]] > 0) | (df[c[30+7]] > 0),\n",
    "    (\n",
    "        (df[c[24]] == 0)&\n",
    "        (df[c[25]] == 0)&\n",
    "        (df[c[26]] == 0)&\n",
    "        (df[c[27]] == 0)&\n",
    "        (df[c[28]] == 0)&\n",
    "        (df[c[29]] == 0)&\n",
    "        (df[c[30]] == 0)&\n",
    "        (df[c[24+7]] == 0)&\n",
    "        (df[c[25+7]] == 0)&\n",
    "        (df[c[26+7]] == 0)&\n",
    "        (df[c[27+7]] == 0)&\n",
    "        (df[c[28+7]] == 0)&\n",
    "        (df[c[29+7]] == 0)&\n",
    "        (df[c[30+7]] == 0)\n",
    "        )\n",
    "    ]\n",
    "    paper_desc = [\n",
    "        'A4', 'JIS B4', 'A3', 'Letter', 'Legal', 'Ledger', 'Other', 'No Printing'\n",
    "    ]\n",
    "\n",
    "    df['Paper Size'] = np.select(paper_size, paper_desc)\n",
    "\n",
    "    mesin = df.loc[df['Paper Size'] != 'No Printing']\n",
    "    return df"
   ]
  },
  {
   "cell_type": "code",
   "execution_count": null,
   "id": "e8497804",
   "metadata": {},
   "outputs": [],
   "source": [
    "print(ff_ina['Tipe Pekerjaan'].unique())\n",
    "print(ff_eng['Job Type'].unique())"
   ]
  },
  {
   "cell_type": "code",
   "execution_count": null,
   "id": "fa430871",
   "metadata": {},
   "outputs": [],
   "source": [
    "try:\n",
    "    for i,j in zip(cfi, cfe):\n",
    "        ff_ina.rename(columns={i:j}, inplace=True)\n",
    "    ff_ina.head(1)\n",
    "except Exception as e:\n",
    "    print(e)"
   ]
  },
  {
   "cell_type": "code",
   "execution_count": null,
   "id": "e8841a23",
   "metadata": {},
   "outputs": [],
   "source": [
    "print(ff_ina['Job Type'].unique())\n",
    "print(ff_eng['Job Type'].unique())"
   ]
  },
  {
   "cell_type": "code",
   "execution_count": null,
   "id": "ed165a76",
   "metadata": {},
   "outputs": [],
   "source": [
    "#print(ff_eng[cfe[7]].unique())\n",
    "#print(ff_ina[cfe[7]].unique())\n",
    "#ff_eng[cfe[7]]\n",
    "\n",
    "#try:\n",
    "#    for a,b in zip(ff_ina[cfe[7]].unique(), ff_eng[cfe[7]].unique()):\n",
    "#        ff_ina.replace({cfe[7]:{a:b}}, inplace=True)\n",
    "#    \n",
    "#    for c,d in zip(ff_ina[cfe[8]].unique(), ff_eng[cfe[8]].unique()):\n",
    "#        ff_ina.replace({cfe[8]:{c:d}}, inplace=True)\n",
    "#except Exception as e:\n",
    "#    print(e)\n",
    "# --------------------------------------------------------------------------------------------------------\n",
    "ff_ina.replace(list(ff_ina[cfe[7]].unique()), list(ff_eng[cfe[7]].unique().astype(str)))\n",
    "print(ff_ina[cfe[7]].unique())\n",
    "print(ff_eng[cfe[7]].unique())"
   ]
  },
  {
   "cell_type": "code",
   "execution_count": null,
   "id": "c8b73d60",
   "metadata": {},
   "outputs": [],
   "source": [
    "ff_inaTest = ff_ina.loc[ff_ina['Job Type'] == 'Print']\n",
    "print(ff_inaTest[cfe[26+7]].unique())"
   ]
  },
  {
   "cell_type": "code",
   "execution_count": null,
   "id": "4fa0ea40",
   "metadata": {},
   "outputs": [],
   "source": [
    "print(ff_ina.head(1))"
   ]
  },
  {
   "cell_type": "markdown",
   "id": "43b180b7",
   "metadata": {},
   "source": [
    "# Phase 1 completed. Proceed to function testing"
   ]
  },
  {
   "cell_type": "code",
   "execution_count": 5,
   "id": "225b5007",
   "metadata": {},
   "outputs": [],
   "source": [
    "import sys\n",
    "sys.path.append(r\"C:\\\\Users\\\\Garimahdi.Supandi\\\\Hexindo Case\")\n",
    "import reportCompiler\n",
    "user = pd.read_excel(r'D:\\Astragraphia\\BO1\\Hexindo\\Report Pemakaian\\LDAP.xlsx')"
   ]
  },
  {
   "cell_type": "code",
   "execution_count": 6,
   "id": "803e3498",
   "metadata": {},
   "outputs": [
    {
     "name": "stdout",
     "output_type": "stream",
     "text": [
      "<class 'pandas.core.frame.DataFrame'>\n",
      "RangeIndex: 1070 entries, 0 to 1069\n",
      "Data columns (total 5 columns):\n",
      " #   Column          Non-Null Count  Dtype \n",
      "---  ------          --------------  ----- \n",
      " 0   LDAP ID         1070 non-null   object\n",
      " 1   DEPT/BRANCH     1070 non-null   object\n",
      " 2   USER            1070 non-null   object\n",
      " 3   DEPT/BRANCH.1   1070 non-null   object\n",
      " 4   EMAIL ADDRESS   1063 non-null   object\n",
      "dtypes: object(5)\n",
      "memory usage: 41.9+ KB\n",
      "None\n"
     ]
    }
   ],
   "source": [
    "print(user.info())\n",
    "cu = list(user.columns)\n",
    "users = dict(user[[cu[0],cu[2]]].values)\n",
    "depts = dict(user[[cu[0],cu[1]]].values)"
   ]
  },
  {
   "cell_type": "code",
   "execution_count": 7,
   "id": "102e1c81",
   "metadata": {},
   "outputs": [
    {
     "name": "stdout",
     "output_type": "stream",
     "text": [
      "Index(['Date', 'Year', 'Month', 'Day', 'Year Month', 'Month Day', 'End Time',\n",
      "       'Job Type', 'Job Type Details', 'Input (Send) Type',\n",
      "       ...\n",
      "       '*.4', '*.5', '*.6', '*.7', '*.8', '*.9', '*.10', '*.11', '*.12',\n",
      "       '*.13'],\n",
      "      dtype='object', length=111)\n"
     ]
    }
   ],
   "source": [
    "reportCompiler.jheTranslator(ff_ina, ff_eng, cfi, cfe,7)\n",
    "#reportCompiler.jheTranslator(ff_ina, ff_eng, cfi, cfe,8)\n",
    "print(ff_ina.columns)"
   ]
  },
  {
   "cell_type": "code",
   "execution_count": null,
   "id": "2f3549d0",
   "metadata": {},
   "outputs": [],
   "source": [
    "ff_ina['Job Type'].unique()"
   ]
  },
  {
   "cell_type": "code",
   "execution_count": null,
   "id": "5baae3eb",
   "metadata": {},
   "outputs": [],
   "source": [
    "ff_ina.columns"
   ]
  },
  {
   "cell_type": "code",
   "execution_count": 8,
   "id": "468ce9c4",
   "metadata": {},
   "outputs": [],
   "source": [
    "try:\n",
    "    ff_ina_eng = reportCompiler.paperClr(ff_ina, cfe)\n",
    "except Exception as e:\n",
    "    print(e)"
   ]
  },
  {
   "cell_type": "code",
   "execution_count": null,
   "id": "8383037a",
   "metadata": {},
   "outputs": [],
   "source": [
    "print(ff_ina_eng)\n",
    "#ff_ina_eng['Job Type'].unique()\n",
    "#ff_ina_eng_fin.loc[ff_ina_eng['Job Type'] == 'Print'].head(1)"
   ]
  },
  {
   "cell_type": "code",
   "execution_count": null,
   "id": "1fa59164",
   "metadata": {},
   "outputs": [],
   "source": [
    "ff_ina_eng['Job Type'].unique()\n",
    "#ff_ina_eng = reportCompiler.userDeptMapping(ff_ina_eng, users, depts, cfe)\n",
    "#ff_ina_eng = reportCompiler.fillEmpty(ff_ina_eng, cfe, 'Lantai 12')"
   ]
  },
  {
   "cell_type": "code",
   "execution_count": 9,
   "id": "249b5b92",
   "metadata": {},
   "outputs": [
    {
     "name": "stderr",
     "output_type": "stream",
     "text": [
      "C:\\Users\\Garimahdi.Supandi\\Hexindo Case\\reportCompiler.py:134: SettingWithCopyWarning: \n",
      "A value is trying to be set on a copy of a slice from a DataFrame.\n",
      "Try using .loc[row_indexer,col_indexer] = value instead\n",
      "\n",
      "See the caveats in the documentation: https://pandas.pydata.org/pandas-docs/stable/user_guide/indexing.html#returning-a-view-versus-a-copy\n",
      "  df['Nama'] = df[c[12]].map(dictUser)\n",
      "C:\\Users\\Garimahdi.Supandi\\Hexindo Case\\reportCompiler.py:135: SettingWithCopyWarning: \n",
      "A value is trying to be set on a copy of a slice from a DataFrame.\n",
      "Try using .loc[row_indexer,col_indexer] = value instead\n",
      "\n",
      "See the caveats in the documentation: https://pandas.pydata.org/pandas-docs/stable/user_guide/indexing.html#returning-a-view-versus-a-copy\n",
      "  df['Dept'] = df[c[12]].map(dictDept)\n",
      "C:\\Users\\Garimahdi.Supandi\\Hexindo Case\\reportCompiler.py:136: SettingWithCopyWarning: \n",
      "A value is trying to be set on a copy of a slice from a DataFrame\n",
      "\n",
      "See the caveats in the documentation: https://pandas.pydata.org/pandas-docs/stable/user_guide/indexing.html#returning-a-view-versus-a-copy\n",
      "  df[c[12]].fillna(0, inplace=True)\n"
     ]
    }
   ],
   "source": [
    "#ff_ina_eng.head(10)\n",
    "#ff_ina_eng_print = ff_ina_eng.loc[(ff_ina_eng['Job Type'] == 'Print')]\n",
    "#ff_ina_eng_print['Paper Size'].unique()\n",
    "#print(ff_ina_eng.loc[ff_ina_eng[cfe[31]] > 0].head(2))\n",
    "#print(ff_ina_eng_print['Paper Size'].unique())\n",
    "ff_ina_eng = reportCompiler.userDeptMapping(ff_ina_eng, users, depts, cfe)"
   ]
  },
  {
   "cell_type": "code",
   "execution_count": 11,
   "id": "f3b9a43f",
   "metadata": {},
   "outputs": [
    {
     "name": "stderr",
     "output_type": "stream",
     "text": [
      "C:\\Users\\Garimahdi.Supandi\\Hexindo Case\\reportCompiler.py:140: SettingWithCopyWarning: \n",
      "A value is trying to be set on a copy of a slice from a DataFrame.\n",
      "Try using .loc[row_indexer,col_indexer] = value instead\n",
      "\n",
      "See the caveats in the documentation: https://pandas.pydata.org/pandas-docs/stable/user_guide/indexing.html#returning-a-view-versus-a-copy\n",
      "  df[c[12]] = df[c[12]].astype(int)\n",
      "C:\\Users\\Garimahdi.Supandi\\Hexindo Case\\reportCompiler.py:141: SettingWithCopyWarning: \n",
      "A value is trying to be set on a copy of a slice from a DataFrame.\n",
      "Try using .loc[row_indexer,col_indexer] = value instead\n",
      "\n",
      "See the caveats in the documentation: https://pandas.pydata.org/pandas-docs/stable/user_guide/indexing.html#returning-a-view-versus-a-copy\n",
      "  df['Nama'] = df['Nama'].fillna(df[c[12]])\n",
      "C:\\Users\\Garimahdi.Supandi\\Hexindo Case\\reportCompiler.py:142: SettingWithCopyWarning: \n",
      "A value is trying to be set on a copy of a slice from a DataFrame.\n",
      "Try using .loc[row_indexer,col_indexer] = value instead\n",
      "\n",
      "See the caveats in the documentation: https://pandas.pydata.org/pandas-docs/stable/user_guide/indexing.html#returning-a-view-versus-a-copy\n",
      "  df['Dept'] = df['Dept'].fillna(str(floor))\n",
      "C:\\Users\\Garimahdi.Supandi\\Hexindo Case\\reportCompiler.py:143: SettingWithCopyWarning: \n",
      "A value is trying to be set on a copy of a slice from a DataFrame.\n",
      "Try using .loc[row_indexer,col_indexer] = value instead\n",
      "\n",
      "See the caveats in the documentation: https://pandas.pydata.org/pandas-docs/stable/user_guide/indexing.html#returning-a-view-versus-a-copy\n",
      "  df['Location'] = floor\n"
     ]
    },
    {
     "data": {
      "text/html": [
       "<div>\n",
       "<style scoped>\n",
       "    .dataframe tbody tr th:only-of-type {\n",
       "        vertical-align: middle;\n",
       "    }\n",
       "\n",
       "    .dataframe tbody tr th {\n",
       "        vertical-align: top;\n",
       "    }\n",
       "\n",
       "    .dataframe thead th {\n",
       "        text-align: right;\n",
       "    }\n",
       "</style>\n",
       "<table border=\"1\" class=\"dataframe\">\n",
       "  <thead>\n",
       "    <tr style=\"text-align: right;\">\n",
       "      <th></th>\n",
       "      <th>User ID</th>\n",
       "      <th>Nama</th>\n",
       "      <th>Dept</th>\n",
       "      <th>Location</th>\n",
       "      <th>Job Type</th>\n",
       "      <th>Paper Size</th>\n",
       "      <th>Total Color Impressions</th>\n",
       "      <th>Total B&amp;W Impressions</th>\n",
       "    </tr>\n",
       "  </thead>\n",
       "  <tbody>\n",
       "    <tr>\n",
       "      <th>0</th>\n",
       "      <td>70623562</td>\n",
       "      <td>GUGUN GUNAWAN</td>\n",
       "      <td>CREDIT</td>\n",
       "      <td>Lantai 4 HO</td>\n",
       "      <td>Print</td>\n",
       "      <td>A4</td>\n",
       "      <td>0</td>\n",
       "      <td>1</td>\n",
       "    </tr>\n",
       "    <tr>\n",
       "      <th>1</th>\n",
       "      <td>70623562</td>\n",
       "      <td>GUGUN GUNAWAN</td>\n",
       "      <td>CREDIT</td>\n",
       "      <td>Lantai 4 HO</td>\n",
       "      <td>Print</td>\n",
       "      <td>A4</td>\n",
       "      <td>0</td>\n",
       "      <td>4</td>\n",
       "    </tr>\n",
       "  </tbody>\n",
       "</table>\n",
       "</div>"
      ],
      "text/plain": [
       "    User ID           Nama    Dept     Location Job Type Paper Size  \\\n",
       "0  70623562  GUGUN GUNAWAN  CREDIT  Lantai 4 HO    Print         A4   \n",
       "1  70623562  GUGUN GUNAWAN  CREDIT  Lantai 4 HO    Print         A4   \n",
       "\n",
       "   Total Color Impressions  Total B&W Impressions  \n",
       "0                        0                      1  \n",
       "1                        0                      4  "
      ]
     },
     "execution_count": 11,
     "metadata": {},
     "output_type": "execute_result"
    }
   ],
   "source": [
    "ff_ina_eng = reportCompiler.filler(ff_ina_eng, cfe, 'Lantai 4 HO')\n",
    "ff_ina_eng.head(2)"
   ]
  },
  {
   "cell_type": "markdown",
   "id": "40da45a7",
   "metadata": {},
   "source": [
    "# Phase 1 research is completed successfully"
   ]
  },
  {
   "cell_type": "markdown",
   "id": "7dcf616b",
   "metadata": {},
   "source": [
    "# Phase 1 analysis notes:\n",
    "\n",
    "### 1) Rearranging the array is a must to ensure proper translation.\n",
    "### 2) Make this code neat. Make as portfolio.\n",
    "### 3) Make the reportCompiler functions for wrangling purposes as a class."
   ]
  },
  {
   "cell_type": "markdown",
   "id": "b73f34e4",
   "metadata": {},
   "source": [
    "# Phase 2: Merging Data"
   ]
  }
 ],
 "metadata": {
  "kernelspec": {
   "display_name": "Python 3 (ipykernel)",
   "language": "python",
   "name": "python3"
  },
  "language_info": {
   "codemirror_mode": {
    "name": "ipython",
    "version": 3
   },
   "file_extension": ".py",
   "mimetype": "text/x-python",
   "name": "python",
   "nbconvert_exporter": "python",
   "pygments_lexer": "ipython3",
   "version": "3.11.5"
  }
 },
 "nbformat": 4,
 "nbformat_minor": 5
}
